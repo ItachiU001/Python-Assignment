{
 "cells": [
  {
   "cell_type": "markdown",
   "id": "035a569c",
   "metadata": {},
   "source": [
    "We can schedule a python program using \n",
    "\n",
    "1. Batch (*.bat)* file \n",
    "2. Using External libraries like **datetime, Timer, time, Scheduler**"
   ]
  },
  {
   "cell_type": "markdown",
   "id": "d750ef90",
   "metadata": {},
   "source": [
    "## For the first solution, I have used the windows task scheduler"
   ]
  },
  {
   "cell_type": "code",
   "execution_count": null,
   "id": "936e8ca2",
   "metadata": {},
   "outputs": [],
   "source": [
    "# For python script, I have used the following code\n",
    "\n",
    "import tkinter as tk \n",
    "\n",
    "root= tk.Tk() \n",
    " \n",
    "canvas1 = tk.Canvas(root, width = 300, height = 300)\n",
    "canvas1.pack()\n",
    "\n",
    "label1 = tk.Label(root, text='Hello Ashitosh !!! How are you')\n",
    "canvas1.create_window(150, 150, window=label1)\n",
    "\n",
    "root.mainloop()\n",
    "\n"
   ]
  },
  {
   "cell_type": "markdown",
   "id": "85554dd2",
   "metadata": {},
   "source": [
    "A batch file is created using notepad using following steps;\n",
    "\n",
    "   1. paste the content **\"Path where your Python exe is stored\\python.exe\" \"Path where your Python script is stored\\script             name.py\" pause** in notepad (change the path accroding to your machine)\n",
    "\n",
    "   2. Save the file with an extension **(.bat)**\n",
    "\n",
    "After this, you can schedule the task using windows task scheduler found in control panel-> Administrative Tools"
   ]
  },
  {
   "cell_type": "markdown",
   "id": "1bcbda8f",
   "metadata": {},
   "source": [
    "## Log file is included in the batch file"
   ]
  },
  {
   "cell_type": "markdown",
   "id": "83171ae7",
   "metadata": {},
   "source": [
    "In the batch code, I have included the code which generate the log file also. The content of the log file is just the date.\n",
    "\n",
    "The code included in the batch file is as follows;\n",
    "\n",
    "**for /f \"tokens=1-4 delims=/ \" %%i in (\"%date%\") do (\n",
    "     set dow=%%h\n",
    "     set month=%%i\n",
    "     set day=%%j\n",
    "     set year=%%k\n",
    "   )**\n",
    "\n",
    "**SET datestr=%month%_%day%_%year%\n",
    "SET path=C:\\Users\\dell\\\n",
    "SET filename=%path%log-%datestr%.txt**\n",
    "\n",
    "**echo ==LOG FILE %datestr% == >> %filename%**\n",
    "\n",
    "**\"C:\\Users\\dell\\AppData\\Local\\Programs\\Python\\Python39\\python.exe\" \"C:\\Users\\dell\\Practice Python Assignments\\prog_hello.py\"\n",
    "pause**\n",
    "\n",
    "## Output of the log file:\n",
    "\n",
    "**==LOG FILE 02-09-2021__ ==**"
   ]
  },
  {
   "cell_type": "markdown",
   "id": "adda543c",
   "metadata": {},
   "source": [
    "## For the second step, different libraries can be used"
   ]
  },
  {
   "cell_type": "code",
   "execution_count": null,
   "id": "8edf8cc5",
   "metadata": {},
   "outputs": [],
   "source": [
    "# Using schedule and time library, I can schedule the python script every 1 hour statrted from 12.30 pm when I run this script \n",
    "\n",
    "import schedule\n",
    "import time\n",
    "\n",
    "def job():\n",
    "    print(\"Hello Ashitosh!!! How are you\")\n",
    "\n",
    "schedule.every().minutes.do(job)\n",
    "schedule.every(1).hour.do(job)\n",
    "schedule.every().day.at(\"12:30\").do(job)\n",
    "\n",
    "while 1:\n",
    "    schedule.run_pending()\n",
    "    time.sleep(1)"
   ]
  },
  {
   "cell_type": "code",
   "execution_count": null,
   "id": "c1d3d28c",
   "metadata": {},
   "outputs": [],
   "source": [
    "# In this script, with the help of datetime and apscheduler libraries, I can schedule the code at particular date and time i.e. \n",
    "# 1st Sep 2021 at 12.17.00 \n",
    "\n",
    "from datetime import date\n",
    "from datetime import datetime\n",
    "from apscheduler.scheduler import Scheduler\n",
    "\n",
    "# Start the scheduler\n",
    "sched = Scheduler()\n",
    "sched.start()\n",
    "\n",
    "# Define the function that is to be executed\n",
    "def my_job(text):\n",
    "    print(text)\n",
    "\n",
    "# The job will be executed on todays date\n",
    "exec_date = datetime.today()\n",
    "\n",
    "# The job will be executed on running this script\n",
    "job = sched.add_date_job(my_job, exec_date, ['Hi Ashitosh. How are you'])\n",
    "\n",
    "# If you want to execute the job at some specific date and time, we can use following line\n",
    "job = sched.add_date_job(my_job, datetime(2021, 9, 1, 12, 17, 0), ['Hi Ashitosh. How are you'])"
   ]
  },
  {
   "cell_type": "markdown",
   "id": "0e7983e7",
   "metadata": {},
   "source": [
    "# Points to be remember"
   ]
  },
  {
   "cell_type": "markdown",
   "id": "cbb8670d",
   "metadata": {},
   "source": [
    "1. Windows task scheduler by default take the root path i.e. in my case *C:\\Users\\dell*, so copy and paste the batch file and python code in the same directory.\n",
    "2. If you want to change the directory into current directory of you batch file then, copy and paste the code **cd /D \"%~dp0\"** as the first line of your batch file (if echo off is used then paste after the echo off), it changes the current directory from default to the directory of the batch file.\n",
    "3. While scheduling the batch file; if you checked the options; **Run whether user is logged in or not** and **power** settings in the condition tab, then your batch file will not showing any output *(I don't find any reason or any solution to overcome this error in my case)* "
   ]
  }
 ],
 "metadata": {
  "kernelspec": {
   "display_name": "Python 3",
   "language": "python",
   "name": "python3"
  },
  "language_info": {
   "codemirror_mode": {
    "name": "ipython",
    "version": 3
   },
   "file_extension": ".py",
   "mimetype": "text/x-python",
   "name": "python",
   "nbconvert_exporter": "python",
   "pygments_lexer": "ipython3",
   "version": "3.8.11"
  }
 },
 "nbformat": 4,
 "nbformat_minor": 5
}
