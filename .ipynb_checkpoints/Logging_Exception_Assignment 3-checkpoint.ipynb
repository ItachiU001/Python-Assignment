{
 "cells": [
  {
   "cell_type": "markdown",
   "id": "b6118316",
   "metadata": {},
   "source": [
    "# Logging Exceptions"
   ]
  },
  {
   "cell_type": "markdown",
   "id": "0ad2722f",
   "metadata": {},
   "source": [
    "## Basic programming using error handling i.e. try-except-finally"
   ]
  },
  {
   "cell_type": "code",
   "execution_count": 1,
   "id": "0eaf9740",
   "metadata": {},
   "outputs": [],
   "source": [
    "try:\n",
    "    f=open('mynew','w')\n",
    "    f.write('This is my new file')  \n",
    "    \n",
    "except:\n",
    "    print('There is an error occured while writing a file')"
   ]
  },
  {
   "cell_type": "code",
   "execution_count": 2,
   "id": "8f0361a8",
   "metadata": {},
   "outputs": [
    {
     "name": "stdout",
     "output_type": "stream",
     "text": [
      "There is an error occured while writing a file\n"
     ]
    }
   ],
   "source": [
    "try:\n",
    "    f=open('mynew','r')  # error created\n",
    "    f.write('This is my new file')  \n",
    "    \n",
    "except:\n",
    "    print('There is an error occured while writing a file')"
   ]
  },
  {
   "cell_type": "code",
   "execution_count": 3,
   "id": "ded65595",
   "metadata": {},
   "outputs": [
    {
     "name": "stdout",
     "output_type": "stream",
     "text": [
      "There is an error: not writable\n"
     ]
    }
   ],
   "source": [
    "try:\n",
    "    f=open('mynew','r')\n",
    "    f.write('This is my new file')  \n",
    "    \n",
    "except Exception as err:\n",
    "    print(f'There is an error: {err}')"
   ]
  },
  {
   "cell_type": "code",
   "execution_count": 4,
   "id": "3e6e1be0",
   "metadata": {},
   "outputs": [],
   "source": [
    "def int_res():\n",
    "    \n",
    "    while True:\n",
    "        \n",
    "        try:\n",
    "            result=int(input(\"Enter the integer number: \"))\n",
    "\n",
    "        except:\n",
    "            \n",
    "            print(\"Entered value is not a number\")\n",
    "            continue\n",
    "        \n",
    "        else:\n",
    "            \n",
    "            print(\"Integer number is provided\")\n",
    "            break"
   ]
  },
  {
   "cell_type": "code",
   "execution_count": 5,
   "id": "d77930cd",
   "metadata": {},
   "outputs": [
    {
     "name": "stdout",
     "output_type": "stream",
     "text": [
      "Enter the integer number: a\n",
      "Entered value is not a number\n",
      "Enter the integer number: g\n",
      "Entered value is not a number\n",
      "Enter the integer number: 3\n",
      "Integer number is provided\n"
     ]
    }
   ],
   "source": [
    "int_res()"
   ]
  },
  {
   "cell_type": "code",
   "execution_count": 7,
   "id": "3e29d5c3",
   "metadata": {},
   "outputs": [
    {
     "name": "stdout",
     "output_type": "stream",
     "text": [
      "Occured error is: unsupported operand type(s) for ** or pow(): 'str' and 'int'\n"
     ]
    }
   ],
   "source": [
    "try:\n",
    "    \n",
    "    for i in ['a','b','c']:\n",
    "        print(i**2)\n",
    "\n",
    "except Exception as err:\n",
    "    print(f\"Occured error is: {err}\")"
   ]
  },
  {
   "cell_type": "code",
   "execution_count": 8,
   "id": "2cd72807",
   "metadata": {},
   "outputs": [
    {
     "name": "stdout",
     "output_type": "stream",
     "text": [
      "Error occured is: division by zero\n"
     ]
    }
   ],
   "source": [
    "try:\n",
    "    \n",
    "    x=5\n",
    "    y=0\n",
    "    x/y\n",
    "    \n",
    "except Exception as e:\n",
    "    print(f\"Error occured is: {e}\")"
   ]
  },
  {
   "cell_type": "markdown",
   "id": "94dc885c",
   "metadata": {},
   "source": [
    "## Basic Programming using logging library"
   ]
  },
  {
   "cell_type": "code",
   "execution_count": 10,
   "id": "707631de",
   "metadata": {},
   "outputs": [
    {
     "name": "stderr",
     "output_type": "stream",
     "text": [
      "ERROR:root:Error occured while printing\n",
      "Traceback (most recent call last):\n",
      "  File \"<ipython-input-10-648cec8c83fd>\", line 6, in <module>\n",
      "    printf(\"Hello World!\")\n",
      "NameError: name 'printf' is not defined\n"
     ]
    }
   ],
   "source": [
    "# importing the module\n",
    "\n",
    "import logging\n",
    "\n",
    "try:\n",
    "    printf(\"Hello World!\")\n",
    "\n",
    "except Exception as Argument:\n",
    "\n",
    "    logging.exception(\"Error occured while printing\")"
   ]
  },
  {
   "cell_type": "code",
   "execution_count": 15,
   "id": "8f65f32c",
   "metadata": {},
   "outputs": [],
   "source": [
    "# importing the module\n",
    "import logging\n",
    "\n",
    "try:\n",
    "    a=10\n",
    "    b=\"C\"\n",
    "    c=a+b\n",
    "\n",
    "except Exception as err:\n",
    "   \n",
    "    # creating/opening a file\n",
    "    f = open(\"mynew1.txt\", \"a\")\n",
    "    \n",
    "    # writing in the file\n",
    "    f.write(str(err))\n",
    "    \n",
    "    # closing the file\n",
    "    f.close()"
   ]
  },
  {
   "cell_type": "code",
   "execution_count": 18,
   "id": "4da2b414",
   "metadata": {},
   "outputs": [
    {
     "name": "stderr",
     "output_type": "stream",
     "text": [
      "ERROR:root:Error occured while ruuning a code\n",
      "Traceback (most recent call last):\n",
      "  File \"<ipython-input-18-ad33a24ce9a9>\", line 6, in <module>\n",
      "    printf(\"Hello World!!\")\n",
      "NameError: name 'printf' is not defined\n"
     ]
    }
   ],
   "source": [
    "import logging\n",
    "\n",
    "logger=logging.getLogger()\n",
    "\n",
    "try:\n",
    "    printf(\"Hello World!!\")\n",
    "\n",
    "except Exception:\n",
    "    logger.exception(\"Error occured while ruuning a code\")"
   ]
  },
  {
   "cell_type": "code",
   "execution_count": 20,
   "id": "65a0b2e2",
   "metadata": {},
   "outputs": [
    {
     "name": "stderr",
     "output_type": "stream",
     "text": [
      "ERROR:root:Error occured while ruuning a code\n"
     ]
    }
   ],
   "source": [
    "import logging\n",
    "\n",
    "logger=logging.getLogger()\n",
    "\n",
    "try:\n",
    "    printf(\"Hello World!!\")\n",
    "\n",
    "except Exception:\n",
    "    logger.error(\"Error occured while ruuning a code\")"
   ]
  },
  {
   "cell_type": "code",
   "execution_count": 21,
   "id": "16348cd9",
   "metadata": {},
   "outputs": [
    {
     "name": "stderr",
     "output_type": "stream",
     "text": [
      "ERROR:root:Error occured while ruuning a code\n",
      "Traceback (most recent call last):\n",
      "  File \"<ipython-input-21-11ac1934f3bc>\", line 6, in <module>\n",
      "    printf(\"Hello World!!\")\n",
      "NameError: name 'printf' is not defined\n"
     ]
    }
   ],
   "source": [
    "import logging\n",
    "\n",
    "logger=logging.getLogger()\n",
    "\n",
    "try:\n",
    "    printf(\"Hello World!!\")\n",
    "\n",
    "except Exception:\n",
    "    logger.error(\"Error occured while ruuning a code\",exc_info=True)"
   ]
  },
  {
   "cell_type": "code",
   "execution_count": 22,
   "id": "7da1933c",
   "metadata": {},
   "outputs": [
    {
     "name": "stderr",
     "output_type": "stream",
     "text": [
      "ERROR:root:Error occured while ruuning a code\n",
      "Traceback (most recent call last):\n",
      "  File \"<ipython-input-22-cd36929f557d>\", line 6, in <module>\n",
      "    printf(\"Hello World!!\")\n",
      "NameError: name 'printf' is not defined\n"
     ]
    }
   ],
   "source": [
    "import logging\n",
    "\n",
    "logger=logging.getLogger()\n",
    "\n",
    "try:\n",
    "    printf(\"Hello World!!\")\n",
    "\n",
    "except Exception as e:\n",
    "    logger.error(\"Error occured while ruuning a code\",exc_info=e)"
   ]
  },
  {
   "cell_type": "markdown",
   "id": "ecbfa9b5",
   "metadata": {},
   "source": [
    "## Programming using logging library with different level"
   ]
  },
  {
   "cell_type": "code",
   "execution_count": 2,
   "id": "fd8edaf0",
   "metadata": {},
   "outputs": [],
   "source": [
    "#importing module\n",
    "import logging\n",
    "\n",
    "def main():\n",
    "    #Create and configure logger\n",
    "    logging.basicConfig(filename=\"practice.log\", format='[%(asctime)s] %(levelname)-8s %(name)-12s %(message)s', filemode='a')\n",
    "\n",
    "    \n",
    "    #Creating an object\n",
    "    logger=logging.getLogger('my_logger')\n",
    "\n",
    "    #Setting the threshold of logger to DEBUG\n",
    "    logger.setLevel(logging.DEBUG)\n",
    "\n",
    "    #Test messages\n",
    "    logger.debug(\"Harmless debug Message\")\n",
    "    logger.info(\"Just an information\")\n",
    "    logger.warning(\"Its a Warning\")\n",
    "    logger.error(\"Did you try to divide by zero\")\n",
    "    logger.critical(\"Internet is down\")\n",
    "\n",
    "if __name__ == '__main__':\n",
    "    main()"
   ]
  },
  {
   "cell_type": "code",
   "execution_count": 3,
   "id": "09acaa10",
   "metadata": {},
   "outputs": [
    {
     "name": "stdout",
     "output_type": "stream",
     "text": [
      "Addition is: 15\n"
     ]
    }
   ],
   "source": [
    "#importing module\n",
    "import logging\n",
    "\n",
    "def Addition():\n",
    "    n1=5\n",
    "    n2=10\n",
    "\n",
    "    Addition=n1+n2\n",
    "\n",
    "    print(f\"Addition is: {Addition}\")\n",
    "\n",
    "    \n",
    "def main():\n",
    "    #Create and configure logger\n",
    "    logging.basicConfig(filename=\"practice1.log\", format='[%(asctime)s] %(levelname)-8s %(name)-12s %(message)s', filemode='a')\n",
    "\n",
    "    \n",
    "    #Creating an object\n",
    "    logger=logging.getLogger('my_logger')\n",
    "\n",
    "    #Setting the threshold of logger to DEBUG\n",
    "    logger.setLevel(logging.DEBUG)\n",
    "\n",
    "    #Test messages\n",
    "    logger.debug(\"Harmless debug Message\")\n",
    "    logger.info(\"Just an information\")\n",
    "    logger.warning(\"Its a Warning\")\n",
    "    logger.error(\"Did you try to divide by zero\")\n",
    "    logger.critical(\"Internet is down\")\n",
    "\n",
    "    Addition()\n",
    "    \n",
    "if __name__ == '__main__':\n",
    "    main()"
   ]
  },
  {
   "cell_type": "code",
   "execution_count": 1,
   "id": "436e02da",
   "metadata": {},
   "outputs": [],
   "source": [
    "import logging \n",
    "\n",
    "def Division_fun(a,b):\n",
    "    try:\n",
    "        x=a/b\n",
    "        return x \n",
    "    except:\n",
    "        logging.error('error',exc_info=True)\n",
    "           "
   ]
  },
  {
   "cell_type": "code",
   "execution_count": 2,
   "id": "67fa1b70",
   "metadata": {},
   "outputs": [
    {
     "data": {
      "text/plain": [
       "2.0"
      ]
     },
     "execution_count": 2,
     "metadata": {},
     "output_type": "execute_result"
    }
   ],
   "source": [
    "Division_fun(4,2)"
   ]
  },
  {
   "cell_type": "code",
   "execution_count": 3,
   "id": "6ef0807c",
   "metadata": {},
   "outputs": [
    {
     "name": "stderr",
     "output_type": "stream",
     "text": [
      "ERROR:root:error\n",
      "Traceback (most recent call last):\n",
      "  File \"<ipython-input-1-628331c05e6d>\", line 5, in Division_fun\n",
      "    x=a/b\n",
      "ZeroDivisionError: division by zero\n"
     ]
    }
   ],
   "source": [
    "Division_fun(4,0)"
   ]
  },
  {
   "cell_type": "code",
   "execution_count": null,
   "id": "f4120f79",
   "metadata": {},
   "outputs": [],
   "source": []
  }
 ],
 "metadata": {
  "kernelspec": {
   "display_name": "Python 3",
   "language": "python",
   "name": "python3"
  },
  "language_info": {
   "codemirror_mode": {
    "name": "ipython",
    "version": 3
   },
   "file_extension": ".py",
   "mimetype": "text/x-python",
   "name": "python",
   "nbconvert_exporter": "python",
   "pygments_lexer": "ipython3",
   "version": "3.8.10"
  }
 },
 "nbformat": 4,
 "nbformat_minor": 5
}
